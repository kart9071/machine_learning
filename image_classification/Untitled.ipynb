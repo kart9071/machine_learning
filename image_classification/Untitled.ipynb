{
 "cells": [
  {
   "cell_type": "code",
   "execution_count": 16,
   "id": "86bbc041",
   "metadata": {},
   "outputs": [
    {
     "name": "stdout",
     "output_type": "stream",
     "text": [
      "Training images shape: (8, 224, 224, 3)\n",
      "Validation images shape: (2, 224, 224, 3)\n",
      "Training labels shape: (8,)\n",
      "Validation labels shape: (2,)\n",
      "[[1.         1.         1.         ... 0.22352941 0.14117647 0.14901961]]\n",
      "['karthik']\n"
     ]
    }
   ],
   "source": [
    "import os\n",
    "import cv2\n",
    "import numpy as np\n",
    "from sklearn.utils import shuffle\n",
    "from sklearn.model_selection import train_test_split\n",
    "from sklearn.svm import SVC\n",
    "\n",
    "# Define the directory containing the image folders\n",
    "data_dir = \"Photos/\"\n",
    "\n",
    "# Initialize empty lists for storing the images and labels\n",
    "images = []\n",
    "labels = []\n",
    "\n",
    "# Loop through each folder in the data directory\n",
    "for label in os.listdir(data_dir):\n",
    "    subfolder_path = os.path.join(data_dir, label)\n",
    "    \n",
    "    # Loop through each image in the subfolder\n",
    "    for img_file in os.listdir(subfolder_path):\n",
    "        \n",
    "        # Check if the file is an image file\n",
    "        if img_file.endswith(\".jpg\") or img_file.endswith(\".png\")or img_file.endswith(\".jpeg\"):\n",
    "            img_path = os.path.join(subfolder_path, img_file)\n",
    "            \n",
    "            # Load the image and resize it to a fixed size\n",
    "            img = cv2.imread(img_path)\n",
    "            img = cv2.resize(img, (224, 224))\n",
    "            \n",
    "            # Normalize the pixel values to be between 0 and 1\n",
    "            img = img / 255.0\n",
    "            # Add the image and label to the lists\n",
    "            images.append(img)\n",
    "            labels.append(label)\n",
    "\n",
    "# Convert the lists to numpy arrays and shuffle them\n",
    "images = np.array(images)\n",
    "labels = np.array(labels)\n",
    "images, labels = shuffle(images, labels)\n",
    "\n",
    "# Split the data into training and validation sets\n",
    "train_images, val_images, train_labels, val_labels = train_test_split(images, labels, test_size=0.2)\n",
    "\n",
    "# Print the shapes of the resulting arrays\n",
    "print(\"Training images shape:\", train_images.shape)\n",
    "print(\"Validation images shape:\", val_images.shape)\n",
    "print(\"Training labels shape:\", train_labels.shape)\n",
    "print(\"Validation labels shape:\", val_labels.shape)\n",
    "\n",
    "model=SVC(kernel=\"rbf\")\n",
    "model.fit(train_images.reshape(train_images.shape[0],-1),train_labels)\n",
    "\n",
    "#accuracy = model.score(val_images.reshape(val_images.shape[0], -1), val_labels)\n",
    "#print(\"Validation accuracy\",accuracy)\n",
    "\n",
    "new_image=cv2.imread(\"test_image/test_image.jpeg\")\n",
    "new_image=cv2.resize(new_image,(224,224))\n",
    "new_image=new_image/255.0\n",
    "\n",
    "new_image=new_image.reshape(1,224,224,3)\n",
    "new_image=new_image.reshape(new_image.shape[0],-1)\n",
    "print(new_image);\n",
    "\n",
    "predict=model.predict(new_image)\n",
    "print(predict)"
   ]
  },
  {
   "cell_type": "code",
   "execution_count": null,
   "id": "64493ba0",
   "metadata": {},
   "outputs": [],
   "source": []
  }
 ],
 "metadata": {
  "kernelspec": {
   "display_name": "Python 3 (ipykernel)",
   "language": "python",
   "name": "python3"
  },
  "language_info": {
   "codemirror_mode": {
    "name": "ipython",
    "version": 3
   },
   "file_extension": ".py",
   "mimetype": "text/x-python",
   "name": "python",
   "nbconvert_exporter": "python",
   "pygments_lexer": "ipython3",
   "version": "3.9.13"
  }
 },
 "nbformat": 4,
 "nbformat_minor": 5
}
