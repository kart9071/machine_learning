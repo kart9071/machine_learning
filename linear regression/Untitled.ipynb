{
 "cells": [
  {
   "cell_type": "code",
   "execution_count": 41,
   "id": "aff5f2c6",
   "metadata": {
    "scrolled": false
   },
   "outputs": [
    {
     "name": "stdout",
     "output_type": "stream",
     "text": [
      "mean square error will be 0.024930747922436845\n"
     ]
    }
   ],
   "source": [
    "import pandas as pd\n",
    "import numpy as np\n",
    "from sklearn.preprocessing import OneHotEncoder\n",
    "from sklearn.model_selection import train_test_split\n",
    "from sklearn.linear_model import LinearRegression\n",
    "from sklearn.metrics import mean_squared_error\n",
    "from sklearn.compose import ColumnTransformer\n",
    "\n",
    "data = {'X1': [2, 4, 6, 8, 10],\n",
    "        'X2': ['A', 'B', 'A', 'C', 'B'],\n",
    "        'X3': [4, 3, 6, 1, 5],\n",
    "        'Y': [20, 40, 60, 80, 100]}\n",
    "df=pd.DataFrame(data)\n",
    "X=df.drop('Y',axis=1)\n",
    "y=df['Y']\n",
    "ct=ColumnTransformer([('encoder',OneHotEncoder(),[1])],remainder='passthrough') #changing categorical data 2 nd column to numerical data\n",
    "X=ct.fit_transform(X)\n",
    "x_train,x_test,y_train,y_test=train_test_split(X,y,random_state=65,test_size=0.2)\n",
    "model=LinearRegression()\n",
    "model.fit(x_train,y_train)\n",
    "y_pred=model.predict(x_test)\n",
    "mes=mean_squared_error(y_test,y_pred)\n",
    "print(\"mean square error will be\",mes)"
   ]
  },
  {
   "cell_type": "code",
   "execution_count": 44,
   "id": "fa27202d",
   "metadata": {},
   "outputs": [
    {
     "name": "stdout",
     "output_type": "stream",
     "text": [
      "[1 2 0 3 2 3]\n"
     ]
    }
   ],
   "source": [
    "#label Encoding\n",
    "\n",
    "from sklearn.preprocessing import LabelEncoder\n",
    "encoder=LabelEncoder()\n",
    "data=['hi','mean','distinct','value','mean','value']\n",
    "encoded=encoder.fit_transform(data)\n",
    "print(encoded)"
   ]
  },
  {
   "cell_type": "code",
   "execution_count": 49,
   "id": "b9699899",
   "metadata": {
    "scrolled": true
   },
   "outputs": [
    {
     "name": "stdout",
     "output_type": "stream",
     "text": [
      "[[0. 0. 1.]\n",
      " [1. 0. 0.]\n",
      " [0. 1. 0.]\n",
      " [1. 0. 0.]\n",
      " [0. 0. 1.]\n",
      " [0. 1. 0.]]\n"
     ]
    }
   ],
   "source": [
    "#One Hot Encoding\n",
    "\n",
    "from sklearn.preprocessing import OneHotEncoder\n",
    "import numpy as np\n",
    "\n",
    "# Example data\n",
    "data = ['red', 'blue', 'green', 'blue', 'red', 'green']\n",
    "\n",
    "# Convert data to numpy array and reshape into a 2-dimensional array\n",
    "data = np.array(data).reshape(-1, 1)\n",
    "\n",
    "# Create OneHotEncoder object\n",
    "ohe = OneHotEncoder()\n",
    "\n",
    "# Fit and transform the data\n",
    "data_encoded = ohe.fit_transform(data)\n",
    "\n",
    "# Print the encoded data\n",
    "print(data_encoded.toarray())\n"
   ]
  },
  {
   "cell_type": "code",
   "execution_count": 51,
   "id": "acab978b",
   "metadata": {},
   "outputs": [
    {
     "name": "stdout",
     "output_type": "stream",
     "text": [
      "   Color  Color_Blue  Color_Green  Color_Red\n",
      "0    Red           0            0          1\n",
      "1   Blue           1            0          0\n",
      "2  Green           0            1          0\n",
      "3   Blue           1            0          0\n",
      "4    Red           0            0          1\n",
      "5  Green           0            1          0\n"
     ]
    }
   ],
   "source": [
    "#Dummy encoding\n",
    "\n",
    "import pandas as pd\n",
    "\n",
    "# Example data\n",
    "data = {'Color': ['Red', 'Blue', 'Green', 'Blue', 'Red', 'Green']}\n",
    "df = pd.DataFrame(data)\n",
    "\n",
    "# Dummy encode the categorical column 'Color'\n",
    "dummy_encoded = pd.get_dummies(df['Color'], prefix='Color')\n",
    "\n",
    "# Concatenate the original DataFrame with the dummy encoded columns\n",
    "df = pd.concat([df, dummy_encoded], axis=1)\n",
    "\n",
    "# Print the resulting DataFrame\n",
    "print(df)\n"
   ]
  },
  {
   "cell_type": "code",
   "execution_count": 55,
   "id": "5469957b",
   "metadata": {},
   "outputs": [
    {
     "name": "stdout",
     "output_type": "stream",
     "text": [
      "   Color  Color_freq\n",
      "0    Red    0.285714\n",
      "1   Blue    0.285714\n",
      "2  Green    0.285714\n",
      "3   Blue    0.285714\n",
      "4    Red    0.285714\n",
      "5  Green    0.285714\n",
      "6    new    0.142857\n"
     ]
    }
   ],
   "source": [
    "#frequency Encoding\n",
    "\n",
    "import pandas as pd\n",
    "\n",
    "# Example data\n",
    "data = {'Color': ['Red', 'Blue', 'Green', 'Blue', 'Red', 'Green','new']}\n",
    "df = pd.DataFrame(data)\n",
    "\n",
    "# Compute the frequency of each category in the 'Color' column\n",
    "freq = df['Color'].value_counts(normalize=True)\n",
    "\n",
    "# Map the frequency values to each category in a new column 'Color_freq'\n",
    "df['Color_freq'] = df['Color'].map(freq)\n",
    "\n",
    "# Print the resulting DataFrame\n",
    "print(df)"
   ]
  },
  {
   "cell_type": "code",
   "execution_count": 56,
   "id": "ab343ad9",
   "metadata": {},
   "outputs": [
    {
     "name": "stdout",
     "output_type": "stream",
     "text": [
      "   Gender  Salary   Gender_mean\n",
      "0    Male   60000  65000.000000\n",
      "1  Female   50000  68333.333333\n",
      "2  Female   80000  68333.333333\n",
      "3    Male   70000  65000.000000\n",
      "4    Male   65000  65000.000000\n",
      "5  Female   75000  68333.333333\n"
     ]
    }
   ],
   "source": [
    "#Target Encoding\n",
    "\n",
    "import pandas as pd\n",
    "\n",
    "# Example data\n",
    "data = {'Gender': ['Male', 'Female', 'Female', 'Male', 'Male', 'Female'],\n",
    "        'Salary': [60000, 50000, 80000, 70000, 65000, 75000]}\n",
    "\n",
    "df = pd.DataFrame(data)\n",
    "\n",
    "# Compute the mean salary for each category in the 'Gender' column\n",
    "means = df.groupby('Gender')['Salary'].mean()\n",
    "\n",
    "# Map the mean salary values to each category in a new column 'Gender_mean'\n",
    "df['Gender_mean'] = df['Gender'].map(means)\n",
    "\n",
    "# Print the resulting DataFrame\n",
    "print(df)\n"
   ]
  }
 ],
 "metadata": {
  "kernelspec": {
   "display_name": "Python 3 (ipykernel)",
   "language": "python",
   "name": "python3"
  },
  "language_info": {
   "codemirror_mode": {
    "name": "ipython",
    "version": 3
   },
   "file_extension": ".py",
   "mimetype": "text/x-python",
   "name": "python",
   "nbconvert_exporter": "python",
   "pygments_lexer": "ipython3",
   "version": "3.9.13"
  }
 },
 "nbformat": 4,
 "nbformat_minor": 5
}
