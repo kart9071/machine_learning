{
 "cells": [
  {
   "cell_type": "code",
   "execution_count": 12,
   "id": "0b271e8e",
   "metadata": {},
   "outputs": [
    {
     "data": {
      "text/html": [
       "<div>\n",
       "<style scoped>\n",
       "    .dataframe tbody tr th:only-of-type {\n",
       "        vertical-align: middle;\n",
       "    }\n",
       "\n",
       "    .dataframe tbody tr th {\n",
       "        vertical-align: top;\n",
       "    }\n",
       "\n",
       "    .dataframe thead th {\n",
       "        text-align: right;\n",
       "    }\n",
       "</style>\n",
       "<table border=\"1\" class=\"dataframe\">\n",
       "  <thead>\n",
       "    <tr style=\"text-align: right;\">\n",
       "      <th></th>\n",
       "      <th>age</th>\n",
       "    </tr>\n",
       "    <tr>\n",
       "      <th>gender</th>\n",
       "      <th></th>\n",
       "    </tr>\n",
       "  </thead>\n",
       "  <tbody>\n",
       "    <tr>\n",
       "      <th>F</th>\n",
       "      <td>28.0</td>\n",
       "    </tr>\n",
       "    <tr>\n",
       "      <th>M</th>\n",
       "      <td>26.5</td>\n",
       "    </tr>\n",
       "  </tbody>\n",
       "</table>\n",
       "</div>"
      ],
      "text/plain": [
       "         age\n",
       "gender      \n",
       "F       28.0\n",
       "M       26.5"
      ]
     },
     "execution_count": 12,
     "metadata": {},
     "output_type": "execute_result"
    }
   ],
   "source": [
    "import pandas as pd\n",
    "data={'name':['karthik','shivu','kanvi','vaishu'],'age':[21,32,21,35],'gender':['M','M','F','F']}\n",
    "df=pd.DataFrame(data)\n",
    "df[df['age']>30]\n",
    "df.groupby(['gender']).mean()"
   ]
  },
  {
   "cell_type": "code",
   "execution_count": 15,
   "id": "a92f6be3",
   "metadata": {},
   "outputs": [
    {
     "name": "stdout",
     "output_type": "stream",
     "text": [
      "   Name  Salary Department\n",
      "0  John   50000      Sales\n",
      "1  Mary   60000  Marketing\n"
     ]
    }
   ],
   "source": [
    "import pandas as pd\n",
    "df1 = pd.DataFrame({'Name': ['John', 'Mary'],\n",
    "                    'Salary': [50000, 60000]})\n",
    "df2 = pd.DataFrame({'Name': ['John', 'Mary', 'Bob'],\n",
    "                    'Department': ['Sales', 'Marketing', 'Finance']})\n",
    "df3 = pd.merge(df1, df2, on='Name')   # merge based on 'Name' column\n",
    "print(df3)"
   ]
  },
  {
   "cell_type": "code",
   "execution_count": 19,
   "id": "d72be459",
   "metadata": {},
   "outputs": [
    {
     "name": "stdout",
     "output_type": "stream",
     "text": [
      "         Date      City  Temperature\n",
      "0  2022-01-01  New York            5\n",
      "1  2022-01-02  New York            7\n",
      "2  2022-01-03     Paris            9\n",
      "City        New York  Paris\n",
      "Date                       \n",
      "2022-01-01       5.0    NaN\n",
      "2022-01-02       7.0    NaN\n",
      "2022-01-03       NaN    9.0\n"
     ]
    }
   ],
   "source": [
    "#Reshaping the data formats\n",
    "df_new = pd.DataFrame({'Date': ['2022-01-01', '2022-01-02', '2022-01-03'],\n",
    "                   'City': ['New York', 'New York', 'Paris'],\n",
    "                   'Temperature': [5, 7, 9]})\n",
    "print(df_new)\n",
    "df_wide = df_new.pivot(index='Date', columns='City', values='Temperature')\n",
    "#df_long = df_new.melt(id_vars='Date', value_vars=['New York', 'Paris'],\n",
    "                  #var_name='City', value_name='Temperature')\n",
    "print(df_wide)"
   ]
  }
 ],
 "metadata": {
  "kernelspec": {
   "display_name": "Python 3 (ipykernel)",
   "language": "python",
   "name": "python3"
  },
  "language_info": {
   "codemirror_mode": {
    "name": "ipython",
    "version": 3
   },
   "file_extension": ".py",
   "mimetype": "text/x-python",
   "name": "python",
   "nbconvert_exporter": "python",
   "pygments_lexer": "ipython3",
   "version": "3.9.13"
  }
 },
 "nbformat": 4,
 "nbformat_minor": 5
}
