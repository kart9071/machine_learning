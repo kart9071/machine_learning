{
 "cells": [
  {
   "cell_type": "code",
   "execution_count": 3,
   "id": "369b67bf",
   "metadata": {},
   "outputs": [
    {
     "name": "stdout",
     "output_type": "stream",
     "text": [
      "Quarter   Q1   Q2\n",
      "Year             \n",
      "2019     100  150\n",
      "2020     123  135\n"
     ]
    }
   ],
   "source": [
    "#pivot method used to reshape the dataframe\n",
    "import pandas as pd\n",
    "df=pd.DataFrame({'Year':['2019','2019','2020','2020'],\n",
    "                'Quarter':['Q1','Q2','Q1','Q2'],\n",
    "                 'Sales':[100,150,123,135]})\n",
    "df_pivot=df.pivot(index='Year',columns='Quarter',values='Sales')\n",
    "print(df_pivot)"
   ]
  },
  {
   "cell_type": "code",
   "execution_count": 16,
   "id": "61b536c9",
   "metadata": {},
   "outputs": [
    {
     "data": {
      "text/html": [
       "<div>\n",
       "<style scoped>\n",
       "    .dataframe tbody tr th:only-of-type {\n",
       "        vertical-align: middle;\n",
       "    }\n",
       "\n",
       "    .dataframe tbody tr th {\n",
       "        vertical-align: top;\n",
       "    }\n",
       "\n",
       "    .dataframe thead th {\n",
       "        text-align: right;\n",
       "    }\n",
       "</style>\n",
       "<table border=\"1\" class=\"dataframe\">\n",
       "  <thead>\n",
       "    <tr style=\"text-align: right;\">\n",
       "      <th></th>\n",
       "      <th>Year</th>\n",
       "      <th>Quarter</th>\n",
       "      <th>Sales</th>\n",
       "    </tr>\n",
       "  </thead>\n",
       "  <tbody>\n",
       "    <tr>\n",
       "      <th>0</th>\n",
       "      <td>2019</td>\n",
       "      <td>Q1</td>\n",
       "      <td>100.0</td>\n",
       "    </tr>\n",
       "    <tr>\n",
       "      <th>1</th>\n",
       "      <td>2019</td>\n",
       "      <td>Q2</td>\n",
       "      <td>150.0</td>\n",
       "    </tr>\n",
       "    <tr>\n",
       "      <th>2</th>\n",
       "      <td>2020</td>\n",
       "      <td>Q1</td>\n",
       "      <td>123.0</td>\n",
       "    </tr>\n",
       "  </tbody>\n",
       "</table>\n",
       "</div>"
      ],
      "text/plain": [
       "   Year Quarter  Sales\n",
       "0  2019      Q1  100.0\n",
       "1  2019      Q2  150.0\n",
       "2  2020      Q1  123.0"
      ]
     },
     "execution_count": 16,
     "metadata": {},
     "output_type": "execute_result"
    }
   ],
   "source": [
    "import pandas as pd\n",
    "df_1=pd.DataFrame({'Year':['2019','2019','2020','2020'],\n",
    "                'Quarter':['Q1','Q2','Q1','Q2'],\n",
    "                 'Sales':[100,150,123,None]})\n",
    "#identify which is null\n",
    "df_1.isnull()\n",
    "\n",
    "#filling the values with fillna method(forward filling)\n",
    "df_1.fillna(method='ffill')#here previous 123 is filled to next row\n",
    "\n",
    "#drop rows with missing values\n",
    "df_1.dropna()\n"
   ]
  },
  {
   "cell_type": "code",
   "execution_count": 20,
   "id": "cbc2f1f0",
   "metadata": {},
   "outputs": [
    {
     "name": "stdout",
     "output_type": "stream",
     "text": [
      "    a   b  new_row\n",
      "0  10  34       44\n",
      "1  20  25       45\n",
      "2  30  11       41\n"
     ]
    },
    {
     "data": {
      "text/plain": [
       "<AxesSubplot:xlabel='a'>"
      ]
     },
     "execution_count": 20,
     "metadata": {},
     "output_type": "execute_result"
    },
    {
     "data": {
      "image/png": "[encoded data removed]",
      "text/plain": [
       "<Figure size 640x480 with 1 Axes>"
      ]
     },
     "metadata": {},
     "output_type": "display_data"
    }
   ],
   "source": [
    "import pandas as pd\n",
    "#apply methods\n",
    "apply_dataframe=pd.DataFrame({'a':[10,20,30],'b':[34,25,11]})\n",
    "#function that do some operation on the dataframe\n",
    "def func(row):\n",
    "    return row['a']+row['b']\n",
    "apply_dataframe['new_row']=apply_dataframe.apply(func,axis=1)\n",
    "print(apply_dataframe)\n",
    "\n",
    "#plotting the data \n",
    "apply_dataframe.plot(x='a',y='b')\n",
    "apply_dataframe.plot(kind='scatter',x='a',y='b')"
   ]
  }
 ],
 "metadata": {
  "kernelspec": {
   "display_name": "Python 3 (ipykernel)",
   "language": "python",
   "name": "python3"
  },
  "language_info": {
   "codemirror_mode": {
    "name": "ipython",
    "version": 3
   },
   "file_extension": ".py",
   "mimetype": "text/x-python",
   "name": "python",
   "nbconvert_exporter": "python",
   "pygments_lexer": "ipython3",
   "version": "3.9.13"
  }
 },
 "nbformat": 4,
 "nbformat_minor": 5
}
