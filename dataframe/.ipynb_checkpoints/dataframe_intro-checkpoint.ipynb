{
 "cells": [
  {
   "cell_type": "code",
   "execution_count": null,
   "id": "c8811d9e",
   "metadata": {},
   "outputs": [],
   "source": [
    "import pandas as pd\n",
    "data={'name':['karthik','shivu','anvi','vaishu'],'age':[21,32,21,35],'gender':['M','M','F','F']}\n",
    "df=pd.Dataframe(data)"
   ]
  }
 ],
 "metadata": {
  "kernelspec": {
   "display_name": "Python 3 (ipykernel)",
   "language": "python",
   "name": "python3"
  },
  "language_info": {
   "codemirror_mode": {
    "name": "ipython",
    "version": 3
   },
   "file_extension": ".py",
   "mimetype": "text/x-python",
   "name": "python",
   "nbconvert_exporter": "python",
   "pygments_lexer": "ipython3",
   "version": "3.9.13"
  }
 },
 "nbformat": 4,
 "nbformat_minor": 5
}
