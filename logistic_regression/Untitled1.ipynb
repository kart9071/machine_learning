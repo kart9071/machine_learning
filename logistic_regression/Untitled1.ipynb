{
 "cells": [
  {
   "cell_type": "code",
   "execution_count": 5,
   "id": "963b6982",
   "metadata": {},
   "outputs": [
    {
     "name": "stdout",
     "output_type": "stream",
     "text": [
      "The probability of purchasing is: [0.37129903]\n"
     ]
    }
   ],
   "source": [
    "import pandas as pd\n",
    "from sklearn.linear_model import LogisticRegression\n",
    "\n",
    "# load the dataset\n",
    "data = pd.read_csv('hello.csv')\n",
    "\n",
    "# extract the features (age) and target variable (purchased)\n",
    "X = data['age'].values.reshape(-1, 1)\n",
    "y = data['purchased']\n",
    "\n",
    "# create a logistic regression model\n",
    "model = LogisticRegression()\n",
    "\n",
    "# fit the model to the data\n",
    "model.fit(X, y)\n",
    "\n",
    "# give input to the model (a person aged 35)\n",
    "input_data = [[10]]\n",
    "\n",
    "# get the predicted output (probability of purchasing)\n",
    "output_prob = model.predict_proba(input_data)[:, 1]\n",
    "\n",
    "# print the predicted output\n",
    "print('The probability of purchasing is:', output_prob)\n"
   ]
  }
 ],
 "metadata": {
  "kernelspec": {
   "display_name": "Python 3 (ipykernel)",
   "language": "python",
   "name": "python3"
  },
  "language_info": {
   "codemirror_mode": {
    "name": "ipython",
    "version": 3
   },
   "file_extension": ".py",
   "mimetype": "text/x-python",
   "name": "python",
   "nbconvert_exporter": "python",
   "pygments_lexer": "ipython3",
   "version": "3.9.13"
  }
 },
 "nbformat": 4,
 "nbformat_minor": 5
}
