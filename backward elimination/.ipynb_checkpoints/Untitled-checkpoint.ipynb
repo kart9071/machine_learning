{
 "cells": [
  {
   "cell_type": "code",
   "execution_count": 14,
   "id": "c536a26c",
   "metadata": {},
   "outputs": [
    {
     "name": "stdout",
     "output_type": "stream",
     "text": [
      "[ 5 10 15 20 25]\n",
      "   X   M\n",
      "0  1   5\n",
      "1  2  10\n",
      "2  3  15\n",
      "3  4  20\n",
      "4  5  25\n"
     ]
    }
   ],
   "source": [
    "#Backward elimination\n",
    "import statsmodels.api as sm\n",
    "import numpy as np\n",
    "import pandas as pd\n",
    "\n",
    "df=pd.read_csv('elim.csv')\n",
    "X=df.iloc[:,1].values\n",
    "print(X)\n",
    "y=df.iloc[:,-1].values\n",
    "print(y)\n"
   ]
  }
 ],
 "metadata": {
  "kernelspec": {
   "display_name": "Python 3 (ipykernel)",
   "language": "python",
   "name": "python3"
  },
  "language_info": {
   "codemirror_mode": {
    "name": "ipython",
    "version": 3
   },
   "file_extension": ".py",
   "mimetype": "text/x-python",
   "name": "python",
   "nbconvert_exporter": "python",
   "pygments_lexer": "ipython3",
   "version": "3.9.13"
  }
 },
 "nbformat": 4,
 "nbformat_minor": 5
}
